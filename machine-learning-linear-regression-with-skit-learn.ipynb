{
 "cells": [
  {
   "cell_type": "code",
   "execution_count": 1,
   "id": "63844509",
   "metadata": {},
   "outputs": [],
   "source": [
    "# Author: Abdulmenaf Altintas\n",
    "\n",
    "# Machine learning models: Linear regression model with skit-learn"
   ]
  },
  {
   "cell_type": "code",
   "execution_count": 2,
   "id": "32291402",
   "metadata": {},
   "outputs": [],
   "source": [
    "import numpy as np\n",
    "import math as mt\n",
    "import pandas as pd\n",
    "import quandl\n",
    "\n",
    "import warnings\n",
    "warnings.filterwarnings('ignore')"
   ]
  },
  {
   "cell_type": "code",
   "execution_count": 3,
   "id": "2d49aab9",
   "metadata": {},
   "outputs": [
    {
     "name": "stdout",
     "output_type": "stream",
     "text": [
      "             Open     High    Low  Close      Volume  Ex-Dividend  \\\n",
      "Date                                                                \n",
      "2010-06-29  19.00  25.0000  17.54  23.89  18766300.0          0.0   \n",
      "2010-06-30  25.79  30.4192  23.30  23.83  17187100.0          0.0   \n",
      "2010-07-01  25.00  25.9200  20.27  21.96   8218800.0          0.0   \n",
      "2010-07-02  23.00  23.1000  18.71  19.20   5139800.0          0.0   \n",
      "2010-07-06  20.00  20.0000  15.83  16.11   6866900.0          0.0   \n",
      "\n",
      "            Split Ratio  Adj. Open  Adj. High  Adj. Low  Adj. Close  \\\n",
      "Date                                                                  \n",
      "2010-06-29          1.0      19.00    25.0000     17.54       23.89   \n",
      "2010-06-30          1.0      25.79    30.4192     23.30       23.83   \n",
      "2010-07-01          1.0      25.00    25.9200     20.27       21.96   \n",
      "2010-07-02          1.0      23.00    23.1000     18.71       19.20   \n",
      "2010-07-06          1.0      20.00    20.0000     15.83       16.11   \n",
      "\n",
      "            Adj. Volume  \n",
      "Date                     \n",
      "2010-06-29   18766300.0  \n",
      "2010-06-30   17187100.0  \n",
      "2010-07-01    8218800.0  \n",
      "2010-07-02    5139800.0  \n",
      "2010-07-06    6866900.0  \n"
     ]
    }
   ],
   "source": [
    "# We wil build a model that predicts TESLA stock prices\n",
    "df = quandl.get(\"WIKI/TSLA\")\n",
    "\n",
    "print(df.head())"
   ]
  },
  {
   "cell_type": "code",
   "execution_count": 4,
   "id": "6b2254c0",
   "metadata": {},
   "outputs": [
    {
     "name": "stdout",
     "output_type": "stream",
     "text": [
      "            Adj. Open  Adj. Close  Adj. Low  Adj. High  Adj. Volume\n",
      "Date                                                               \n",
      "2010-06-29      19.00       23.89     17.54    25.0000   18766300.0\n",
      "2010-06-30      25.79       23.83     23.30    30.4192   17187100.0\n",
      "2010-07-01      25.00       21.96     20.27    25.9200    8218800.0\n",
      "2010-07-02      23.00       19.20     18.71    23.1000    5139800.0\n",
      "2010-07-06      20.00       16.11     15.83    20.0000    6866900.0\n"
     ]
    }
   ],
   "source": [
    "# We will select Adj. Open  Adj. High  Adj. Low  Adj. Close Adj. Volume as our starting features\n",
    "\n",
    "df = df[['Adj. Open',  'Adj. Close', 'Adj. Low', 'Adj. High', 'Adj. Volume']]\n",
    "print(df.head())"
   ]
  },
  {
   "cell_type": "code",
   "execution_count": 5,
   "id": "f059c53e",
   "metadata": {},
   "outputs": [
    {
     "name": "stdout",
     "output_type": "stream",
     "text": [
      "            open_close_percent  high_low_percent  Adj. Close  Adj. Volume\n",
      "Date                                                                     \n",
      "2010-06-29           25.736842         29.840000       23.89   18766300.0\n",
      "2010-06-30           -7.599845         23.403640       23.83   17187100.0\n",
      "2010-07-01          -12.160000         21.797840       21.96    8218800.0\n",
      "2010-07-02          -16.521739         19.004329       19.20    5139800.0\n",
      "2010-07-06          -19.450000         20.850000       16.11    6866900.0\n"
     ]
    }
   ],
   "source": [
    "# We can can create new features that will help our model to be more effective\n",
    "\n",
    "df['open_close_percent'] = (df['Adj. Close'] - df['Adj. Open']) / df['Adj. Open'] * 100.0\n",
    "df['high_low_percent'] = (df['Adj. High'] - df['Adj. Low']) / df['Adj. High'] * 100.0\n",
    "\n",
    "# We replace 'Adj. High' and 'Adj. Low' with 'high_low_percent'. We also remove 'Adj. Open'.\n",
    "\n",
    "df_new = df[['open_close_percent', 'high_low_percent', 'Adj. Close', 'Adj. Volume']]\n",
    "\n",
    "print(df_new.head())"
   ]
  },
  {
   "cell_type": "code",
   "execution_count": 6,
   "id": "6d0a1b8b",
   "metadata": {},
   "outputs": [
    {
     "name": "stdout",
     "output_type": "stream",
     "text": [
      "            open_close_percent  high_low_percent  Adj. Close  Adj. Volume  \\\n",
      "Date                                                                        \n",
      "2010-06-29           25.736842         29.840000       23.89   18766300.0   \n",
      "2010-06-30           -7.599845         23.403640       23.83   17187100.0   \n",
      "2010-07-01          -12.160000         21.797840       21.96    8218800.0   \n",
      "2010-07-02          -16.521739         19.004329       19.20    5139800.0   \n",
      "2010-07-06          -19.450000         20.850000       16.11    6866900.0   \n",
      "\n",
      "            label  \n",
      "Date               \n",
      "2010-06-29  20.72  \n",
      "2010-06-30  20.35  \n",
      "2010-07-01  19.94  \n",
      "2010-07-02  20.92  \n",
      "2010-07-06  21.95  \n"
     ]
    }
   ],
   "source": [
    "# Determine prediction as label and put it into dataframe as new column\n",
    "df_new.fillna(value=-10**4, inplace=True)\n",
    "prediction = int(mt.ceil(0.01 * len(df)))\n",
    "\n",
    "# define the label\n",
    "df_new['label'] = df_new[\"Adj. Close\"].shift(-prediction)\n",
    "df_new.dropna(inplace=True) # drop Nan values\n",
    "print(df_new.head())\n",
    "\n"
   ]
  },
  {
   "cell_type": "code",
   "execution_count": 7,
   "id": "dc5a01f0",
   "metadata": {},
   "outputs": [],
   "source": [
    "# import skit-learn modules\n",
    "\n",
    "from sklearn.model_selection import train_test_split\n",
    "from sklearn import preprocessing, svm\n",
    "from sklearn.linear_model import LinearRegression\n",
    "from sklearn.model_selection import cross_val_score"
   ]
  },
  {
   "cell_type": "code",
   "execution_count": 8,
   "id": "b5774291",
   "metadata": {},
   "outputs": [
    {
     "name": "stdout",
     "output_type": "stream",
     "text": [
      "[[ 2.57368421e+01  2.98400000e+01  2.38900000e+01  1.87663000e+07]\n",
      " [-7.59984490e+00  2.34036398e+01  2.38300000e+01  1.71871000e+07]]\n",
      "[20.72 20.35]\n"
     ]
    }
   ],
   "source": [
    "# Define features and labels\n",
    "X = np.array(df_new[['open_close_percent', 'high_low_percent', 'Adj. Close', 'Adj. Volume']])\n",
    "y = np.array(df_new['label'])\n",
    "print(X[0:2,:])\n",
    "print(y[0:2])"
   ]
  },
  {
   "cell_type": "code",
   "execution_count": 9,
   "id": "fe6a1fa9",
   "metadata": {},
   "outputs": [],
   "source": [
    "# Scale features between -1 and +1  before processing\n",
    "X = preprocessing.scale(X)\n",
    "\n",
    "# Start training\n",
    "X_train, X_test, y_train, y_test = train_test_split(X, y, test_size=0.3)"
   ]
  },
  {
   "cell_type": "code",
   "execution_count": 10,
   "id": "e83ff3fb",
   "metadata": {},
   "outputs": [
    {
     "name": "stdout",
     "output_type": "stream",
     "text": [
      "0.9631461078032267\n"
     ]
    }
   ],
   "source": [
    "# Choose classifier and fit\n",
    "classifier = LinearRegression()\n",
    "classifier.fit(X_train, y_train)\n",
    "score = classifier.score(X_test, y_test)\n",
    "print(score)"
   ]
  }
 ],
 "metadata": {
  "kernelspec": {
   "display_name": "venv",
   "language": "python",
   "name": "venv"
  },
  "language_info": {
   "codemirror_mode": {
    "name": "ipython",
    "version": 3
   },
   "file_extension": ".py",
   "mimetype": "text/x-python",
   "name": "python",
   "nbconvert_exporter": "python",
   "pygments_lexer": "ipython3",
   "version": "3.6.9"
  }
 },
 "nbformat": 4,
 "nbformat_minor": 5
}
